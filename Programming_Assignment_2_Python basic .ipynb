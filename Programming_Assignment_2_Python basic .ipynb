{
 "cells": [
  {
   "cell_type": "code",
   "execution_count": null,
   "id": "e4b3bcca",
   "metadata": {},
   "outputs": [],
   "source": [
    "#1.\n",
    "\n",
    "km = int(input(\"enter distance in kilometer\"))\n",
    "miles = km/1.609\n",
    "print(miles)"
   ]
  },
  {
   "cell_type": "code",
   "execution_count": null,
   "id": "95395b6c",
   "metadata": {},
   "outputs": [],
   "source": [
    "#2.\n",
    "\n",
    "temp = int(input(\"enter the temp\"))\n",
    "\n",
    "fahrenheit = (temp*9)/5+32\n",
    "\n",
    "print(fahrenheit)"
   ]
  },
  {
   "cell_type": "code",
   "execution_count": null,
   "id": "bd72410f",
   "metadata": {},
   "outputs": [],
   "source": [
    "#3.\n",
    "\n",
    "import calendar\n",
    "\n",
    "y = int(input(\"Enter year: \"))\n",
    "m = int(input(\"Enter month: \"))\n",
    "\n",
    "print(calendar.month(y,m))"
   ]
  },
  {
   "cell_type": "code",
   "execution_count": null,
   "id": "7c318e38",
   "metadata": {},
   "outputs": [],
   "source": [
    "#4.\n",
    "\n",
    "# ax**2 +b*x+c = 0\n",
    "import cmath\n",
    "\n",
    "a = int(input(\"enter constant a:\"))\n",
    "b = int(input(\"enter constant b:\"))\n",
    "c = int(input(\"enter constant c:\"))\n",
    "\n",
    "d = (b**2)-4*a*c\n",
    "\n",
    "sol1 = (-b+cmath.sqrt(d))/2*a\n",
    "sol2 = (-b-cmath.sqrt(d))/2*a\n",
    "print(\"solution : \",sol1,sol2)"
   ]
  },
  {
   "cell_type": "code",
   "execution_count": null,
   "id": "2c0e3e5d",
   "metadata": {},
   "outputs": [],
   "source": [
    "#5.\n",
    "\n",
    "x = \"ineuron\"\n",
    "y = 25\n",
    "\n",
    "x,y = y,x\n",
    "\n",
    "print(x,y)"
   ]
  }
 ],
 "metadata": {
  "kernelspec": {
   "display_name": "Python 3 (ipykernel)",
   "language": "python",
   "name": "python3"
  },
  "language_info": {
   "codemirror_mode": {
    "name": "ipython",
    "version": 3
   },
   "file_extension": ".py",
   "mimetype": "text/x-python",
   "name": "python",
   "nbconvert_exporter": "python",
   "pygments_lexer": "ipython3",
   "version": "3.9.7"
  }
 },
 "nbformat": 4,
 "nbformat_minor": 5
}
